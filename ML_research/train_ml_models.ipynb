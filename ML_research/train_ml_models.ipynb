{
 "cells": [
  {
   "cell_type": "code",
   "execution_count": 1,
   "metadata": {},
   "outputs": [
    {
     "name": "stderr",
     "output_type": "stream",
     "text": [
      "/tmp/ipykernel_403429/3179311977.py:1: DeprecationWarning: \n",
      "Pyarrow will become a required dependency of pandas in the next major release of pandas (pandas 3.0),\n",
      "(to allow more performant data types, such as the Arrow string type, and better interoperability with other libraries)\n",
      "but was not found to be installed on your system.\n",
      "If this would cause problems for you,\n",
      "please provide us feedback at https://github.com/pandas-dev/pandas/issues/54466\n",
      "        \n",
      "  import pandas as pd\n"
     ]
    }
   ],
   "source": [
    "import pandas as pd \n",
    "from data_preprocessing import (\n",
    "    preprocess_data,\n",
    "    TARGET_VALUE_COLUMN,\n",
    "    RANDOM_SEED,\n",
    "    encode_data,\n",
    "    get_X_y_split\n",
    ")\n",
    "from pydantic import FilePath\n",
    "from sklearn.model_selection import train_test_split\n",
    "from sklearn.tree import DecisionTreeClassifier\n",
    "from sklearn.linear_model import LogisticRegression\n",
    "from sklearn.ensemble import RandomForestClassifier\n",
    "import matplotlib.pyplot as plt \n",
    "from typing import Any \n",
    "from sklearn.metrics import f1_score\n",
    "import pickle\n"
   ]
  },
  {
   "cell_type": "code",
   "execution_count": 2,
   "metadata": {},
   "outputs": [],
   "source": [
    "data = pd.read_csv(\"dataset_6/TCGA_GBM_LGG_Mutations_all.csv\")\n",
    "data = preprocess_data(data)"
   ]
  },
  {
   "cell_type": "code",
   "execution_count": 3,
   "metadata": {},
   "outputs": [],
   "source": [
    "train_data, test_data = train_test_split(data, test_size=0.2, random_state=RANDOM_SEED, stratify=data[TARGET_VALUE_COLUMN])"
   ]
  },
  {
   "cell_type": "markdown",
   "metadata": {},
   "source": [
    "# Labels distribution in train and test "
   ]
  },
  {
   "cell_type": "code",
   "execution_count": 4,
   "metadata": {},
   "outputs": [
    {
     "data": {
      "text/plain": [
       "<Axes: title={'center': 'Test data'}, xlabel='Grade'>"
      ]
     },
     "execution_count": 4,
     "metadata": {},
     "output_type": "execute_result"
    },
    {
     "data": {
      "image/png": "[encoded data removed]",
      "text/plain": [
       "<Figure size 1000x500 with 2 Axes>"
      ]
     },
     "metadata": {},
     "output_type": "display_data"
    }
   ],
   "source": [
    "fig, (train_data_ax, test_data_ax) = plt.subplots(1, 2, figsize=(10, 5))\n",
    "fig.suptitle(\"Labels distribution\")\n",
    "train_data_ax.set_title(\"Train data\")\n",
    "test_data_ax.set_title(\"Test data\")\n",
    "train_data[\"Grade\"].value_counts().plot.bar(ax=train_data_ax)\n",
    "test_data[\"Grade\"].value_counts().plot.bar(ax=test_data_ax)"
   ]
  },
  {
   "cell_type": "code",
   "execution_count": 5,
   "metadata": {},
   "outputs": [],
   "source": [
    "def get_model_f1_score(model, test_x, test_y) -> float:\n",
    "    prediction = model.predict(test_x)\n",
    "    f1 = f1_score(y_true=test_y, y_pred=prediction)\n",
    "    return f1 \n",
    "\n",
    "encoded_train = encode_data(train_data)\n",
    "train_x, train_y = get_X_y_split(encoded_train)\n",
    "\n",
    "encoded_test = encode_data(test_data)\n",
    "test_x, test_y = get_X_y_split(encoded_test) "
   ]
  },
  {
   "cell_type": "markdown",
   "metadata": {},
   "source": [
    "# Train decision tree classifier"
   ]
  },
  {
   "cell_type": "code",
   "execution_count": 6,
   "metadata": {},
   "outputs": [
    {
     "data": {
      "text/plain": [
       "1.0"
      ]
     },
     "execution_count": 6,
     "metadata": {},
     "output_type": "execute_result"
    }
   ],
   "source": [
    "dtree_cls = DecisionTreeClassifier(random_state=RANDOM_SEED)\n",
    "dtree_cls.fit(train_x, train_y)\n",
    "f1 = get_model_f1_score(dtree_cls, test_x, test_y)\n",
    "f1\n"
   ]
  },
  {
   "cell_type": "markdown",
   "metadata": {},
   "source": [
    "# Train Logistic Regression"
   ]
  },
  {
   "cell_type": "code",
   "execution_count": 7,
   "metadata": {},
   "outputs": [
    {
     "name": "stderr",
     "output_type": "stream",
     "text": [
      "/home/andrey/AS/ITMO/MLServicesProject/venv/lib/python3.10/site-packages/sklearn/linear_model/_logistic.py:469: ConvergenceWarning: lbfgs failed to converge (status=1):\n",
      "STOP: TOTAL NO. of ITERATIONS REACHED LIMIT.\n",
      "\n",
      "Increase the number of iterations (max_iter) or scale the data as shown in:\n",
      "    https://scikit-learn.org/stable/modules/preprocessing.html\n",
      "Please also refer to the documentation for alternative solver options:\n",
      "    https://scikit-learn.org/stable/modules/linear_model.html#logistic-regression\n",
      "  n_iter_i = _check_optimize_result(\n"
     ]
    },
    {
     "data": {
      "text/plain": [
       "1.0"
      ]
     },
     "execution_count": 7,
     "metadata": {},
     "output_type": "execute_result"
    }
   ],
   "source": [
    "log_reg_cl = LogisticRegression(random_state=RANDOM_SEED)\n",
    "log_reg_cl.fit(train_x, train_y)\n",
    "f1 = get_model_f1_score(log_reg_cl, test_x, test_y)\n",
    "f1"
   ]
  },
  {
   "cell_type": "markdown",
   "metadata": {},
   "source": [
    "# Train Random Forest "
   ]
  },
  {
   "cell_type": "code",
   "execution_count": 8,
   "metadata": {},
   "outputs": [
    {
     "data": {
      "text/plain": [
       "1.0"
      ]
     },
     "execution_count": 8,
     "metadata": {},
     "output_type": "execute_result"
    }
   ],
   "source": [
    "random_forest_cls = RandomForestClassifier(random_state=RANDOM_SEED)\n",
    "random_forest_cls.fit(train_x, train_y)\n",
    "f1 = get_model_f1_score(random_forest_cls, test_x, test_y)\n",
    "f1"
   ]
  },
  {
   "cell_type": "markdown",
   "metadata": {},
   "source": [
    "# Save models"
   ]
  },
  {
   "cell_type": "code",
   "execution_count": 9,
   "metadata": {},
   "outputs": [],
   "source": [
    "def dump_pickle_at_path(path: FilePath, data: Any) -> None:\n",
    "    with open(path, \"wb\") as f:\n",
    "        pickle.dump(data, f) \n",
    "\n",
    "dump_pickle_at_path(path=\"models/random_forest.pkl\", data=random_forest_cls)\n",
    "dump_pickle_at_path(path=\"models/log_reg.pkl\", data=log_reg_cl)\n",
    "dump_pickle_at_path(path=\"models/dtree.pkl\", data=dtree_cls)"
   ]
  }
 ],
 "metadata": {
  "kernelspec": {
   "display_name": "venv",
   "language": "python",
   "name": "python3"
  },
  "language_info": {
   "codemirror_mode": {
    "name": "ipython",
    "version": 3
   },
   "file_extension": ".py",
   "mimetype": "text/x-python",
   "name": "python",
   "nbconvert_exporter": "python",
   "pygments_lexer": "ipython3",
   "version": "3.10.12"
  }
 },
 "nbformat": 4,
 "nbformat_minor": 2
}
